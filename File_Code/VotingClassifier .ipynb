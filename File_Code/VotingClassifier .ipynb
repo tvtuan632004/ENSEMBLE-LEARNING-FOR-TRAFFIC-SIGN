{
 "cells": [
  {
   "cell_type": "code",
   "execution_count": 1,
   "metadata": {},
   "outputs": [],
   "source": [
    "import pandas as pd \n",
    "import tensorflow as tf\n",
    "from PIL import Image\n",
    "import numpy as np\n",
    "# Importing the test dataset\n",
    "y_test = pd.read_csv(r\"D:\\Test.csv\")\n",
    "\n",
    "labels = y_test[\"ClassId\"].values\n",
    "imgs = y_test[\"Path\"].values\n",
    "\n",
    "y_test = labels\n",
    "data=[]\n",
    "\n",
    "# Retreiving the images\n",
    "with tf.device('/GPU:0'):\n",
    "    for img in imgs:\n",
    "        image = Image.open(img)\n",
    "        image = image.resize([64,64])\n",
    "        data.append(np.array(image))\n",
    "\n",
    "X_test=np.array(data)\n",
    "\n"
   ]
  },
  {
   "cell_type": "code",
   "execution_count": 2,
   "metadata": {},
   "outputs": [
    {
     "name": "stderr",
     "output_type": "stream",
     "text": [
      "WARNING:absl:Compiled the loaded model, but the compiled metrics have yet to be built. `model.compile_metrics` will be empty until you train or evaluate the model.\n"
     ]
    }
   ],
   "source": [
    "import numpy as np\n",
    "from keras.models import load_model\n",
    "import pickle\n",
    "from skimage.feature import hog\n",
    "from skimage import color\n",
    "from sklearn.metrics import accuracy_score\n",
    "import cv2\n",
    "\n",
    "# Nạp các mô hình\n",
    "model_CNN = load_model(r\"C:\\Users\\Admin\\Downloads\\traffic_classifier333.h5\")\n",
    "with open(r\"C:\\Users\\Admin\\Downloads\\SVM.pkl\", 'rb') as f:\n",
    "    model_SVM = pickle.load(f)\n",
    "with open(r\"C:\\Users\\Admin\\Downloads\\RF.pkl\", 'rb') as f:\n",
    "    model_RF = pickle.load(f)\n",
    "\n",
    "# Hàm trích xuất đặc trưng HOG\n",
    "def extract_hog_features(images):\n",
    "    hog_features = []\n",
    "    for img in images:\n",
    "        img_gray = color.rgb2gray(cv2.resize(img, (64, 64)))  # Đảm bảo ảnh kích thước (64,64)\n",
    "        features = hog(img_gray, block_norm='L2-Hys', pixels_per_cell=(8, 8), cells_per_block=(2, 2))\n",
    "        hog_features.append(features)\n",
    "    return np.array(hog_features)\n",
    "\n",
    "# Hàm dự đoán từ các mô hình\n",
    "def get_predictions(X):\n",
    "    # Dự đoán với mô hình CNN (reshape về 4D nếu cần)\n",
    "    cnn_preds = np.argmax(model_CNN.predict(X.reshape(-1, 64, 64, 3)), axis=1)\n",
    "    \n",
    "    # Trích xuất đặc trưng HOG cho SVM và RF\n",
    "    X_hog = extract_hog_features(X)  # Xử lý để có đúng đặc trưng HOG kích thước 1764\n",
    "    svm_preds = model_SVM.predict(X_hog)\n",
    "    rf_preds = model_RF.predict(X_hog)\n",
    "    \n",
    "    return cnn_preds, svm_preds, rf_preds\n",
    "\n",
    "# Hàm tính toán voting thủ công\n",
    "def manual_voting(cnn_preds, svm_preds, rf_preds):\n",
    "    final_predictions = []\n",
    "    for i in range(len(cnn_preds)):\n",
    "        # Đếm số phiếu của từng nhãn từ các mô hình\n",
    "        votes = [cnn_preds[i], svm_preds[i], rf_preds[i]]\n",
    "        # Chọn nhãn có số phiếu nhiều nhất\n",
    "        final_predictions.append(np.bincount(votes).argmax())\n",
    "    return np.array(final_predictions)\n",
    "\n",
    "\n"
   ]
  },
  {
   "cell_type": "code",
   "execution_count": 3,
   "metadata": {},
   "outputs": [
    {
     "name": "stdout",
     "output_type": "stream",
     "text": [
      "\u001b[1m375/375\u001b[0m \u001b[32m━━━━━━━━━━━━━━━━━━━━\u001b[0m\u001b[37m\u001b[0m \u001b[1m16s\u001b[0m 42ms/step\n",
      "Accuracy on test set: 0.9929107589658048\n"
     ]
    }
   ],
   "source": [
    "# Thực hiện dự đoán trên tập con\n",
    "cnn_preds, svm_preds, rf_preds = get_predictions(X_test)\n",
    "predictions = manual_voting(cnn_preds, svm_preds, rf_preds)\n",
    "\n",
    "# Tính độ chính xác\n",
    "accuracy = accuracy_score(y_test, predictions)\n",
    "\n",
    "print(f\"Accuracy on test set: {accuracy}\")"
   ]
  }
 ],
 "metadata": {
  "kernelspec": {
   "display_name": "Python 3",
   "language": "python",
   "name": "python3"
  },
  "language_info": {
   "codemirror_mode": {
    "name": "ipython",
    "version": 3
   },
   "file_extension": ".py",
   "mimetype": "text/x-python",
   "name": "python",
   "nbconvert_exporter": "python",
   "pygments_lexer": "ipython3",
   "version": "3.12.5"
  }
 },
 "nbformat": 4,
 "nbformat_minor": 2
}
